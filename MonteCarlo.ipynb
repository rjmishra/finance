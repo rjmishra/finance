{
 "cells": [
  {
   "cell_type": "markdown",
   "metadata": {},
   "source": [
    "Some stuffs related to compuational finance using python"
   ]
  },
  {
   "cell_type": "code",
   "execution_count": 3,
   "metadata": {
    "collapsed": true
   },
   "outputs": [],
   "source": [
    "# Monte Carlo Valuation of European Call Option\n",
    "import numpy as np\n",
    "# parameters for europen option\n",
    "S0 = 100.0 #initial price\n",
    "K = 107 #strike price\n",
    "T = 1 # time to maturity\n",
    "r = 0.05 #riskless interst rate\n",
    "sigma = 0.2 # variiance or volatility\n",
    "\n",
    "itern =  10000 #number of simulations or iterations"
   ]
  },
  {
   "cell_type": "code",
   "execution_count": 4,
   "metadata": {
    "collapsed": false
   },
   "outputs": [],
   "source": [
    "z = np.random.standard_normal(iter)\n",
    "# black scholes \n",
    "ST = S0 * np.exp((r - 0.5 * sigma ** 2) * T + sigma * np.sqrt(T) * z)\n",
    "# maturity price\n",
    "hT = np.maximum(ST-K, 0)\n",
    "#cost of the option\n",
    "C0 = np.exp(-r*T) * np.sum(hT) / itern # monte carlo simulator"
   ]
  },
  {
   "cell_type": "code",
   "execution_count": 5,
   "metadata": {
    "collapsed": false
   },
   "outputs": [
    {
     "name": "stdout",
     "output_type": "stream",
     "text": [
      "cost of the option is : 7.23515083761\n"
     ]
    }
   ],
   "source": [
    "print(\"cost of the option is :\", C0)"
   ]
  },
  {
   "cell_type": "code",
   "execution_count": null,
   "metadata": {
    "collapsed": true
   },
   "outputs": [],
   "source": []
  }
 ],
 "metadata": {
  "kernelspec": {
   "display_name": "Python 3",
   "language": "python",
   "name": "python3"
  },
  "language_info": {
   "codemirror_mode": {
    "name": "ipython",
    "version": 3
   },
   "file_extension": ".py",
   "mimetype": "text/x-python",
   "name": "python",
   "nbconvert_exporter": "python",
   "pygments_lexer": "ipython3",
   "version": "3.6.0"
  }
 },
 "nbformat": 4,
 "nbformat_minor": 2
}
